{
 "cells": [
  {
   "cell_type": "markdown",
   "metadata": {},
   "source": [
    "### One Hot Encoding"
   ]
  },
  {
   "cell_type": "code",
   "execution_count": 223,
   "metadata": {},
   "outputs": [],
   "source": [
    "from sklearn.datasets import *\n",
    "from sklearn import tree\n",
    "from dtreeviz.trees import *\n",
    "import pandas as pd\n",
    "import numpy as np\n",
    "from sklearn.preprocessing import OneHotEncoder"
   ]
  },
  {
   "cell_type": "code",
   "execution_count": 224,
   "metadata": {},
   "outputs": [],
   "source": [
    "binary_feature_with_high_cardinality = np.random.randint(0, 100, 1000)  # 100 cateogries for 1000 observations\n",
    "X = pd.DataFrame({\"x\": binary_feature_with_high_cardinality})\n",
    "\n",
    "# target_labels = np.random.binomial(1, 0.5, size=1000)  # 0 or 1 with 50-50 ratio"
   ]
  },
  {
   "cell_type": "code",
   "execution_count": 225,
   "metadata": {},
   "outputs": [
    {
     "data": {
      "text/plain": [
       "array([ 0., 11., 22., 33., 44., 55., 66., 77., 88., 99.])"
      ]
     },
     "execution_count": 225,
     "metadata": {},
     "output_type": "execute_result"
    }
   ],
   "source": [
    "np.linspace(0,99,10)"
   ]
  },
  {
   "cell_type": "code",
   "execution_count": 226,
   "metadata": {},
   "outputs": [],
   "source": [
    "target = []\n",
    "for i in binary_feature_with_high_cardinality:\n",
    "    if i in np.linspace(0,99,10):\n",
    "        target.append(1)\n",
    "    else: target.append(0)\n",
    "        \n",
    "target = np.array(target)"
   ]
  },
  {
   "cell_type": "code",
   "execution_count": 227,
   "metadata": {},
   "outputs": [
    {
     "data": {
      "text/plain": [
       "99"
      ]
     },
     "execution_count": 227,
     "metadata": {},
     "output_type": "execute_result"
    }
   ],
   "source": [
    "sum(target)"
   ]
  },
  {
   "cell_type": "code",
   "execution_count": 230,
   "metadata": {},
   "outputs": [],
   "source": [
    "enc = OneHotEncoder(handle_unknown='ignore')\n",
    "enc.fit(X)\n",
    "X_ohc = enc.transform(X)"
   ]
  },
  {
   "cell_type": "code",
   "execution_count": 59,
   "metadata": {
    "scrolled": true
   },
   "outputs": [
    {
     "data": {
      "text/plain": [
       "DecisionTreeClassifier(class_weight=None, criterion='gini', max_depth=5,\n",
       "            max_features=None, max_leaf_nodes=None,\n",
       "            min_impurity_decrease=0.0, min_impurity_split=None,\n",
       "            min_samples_leaf=1, min_samples_split=2,\n",
       "            min_weight_fraction_leaf=0.0, presort=False, random_state=None,\n",
       "            splitter='best')"
      ]
     },
     "execution_count": 59,
     "metadata": {},
     "output_type": "execute_result"
    }
   ],
   "source": [
    "classifier = tree.DecisionTreeClassifier(max_depth=5)  # limit depth of tree\n",
    "classifier.fit(X_ohc_noisy, target)\n",
    "\n",
    "viz = dtreeviz(classifier, \n",
    "               X_ohc_noisy, \n",
    "               target,\n",
    "               target_name='target',\n",
    "              feature_names= X_ohc_noisy.columns, \n",
    "              class_names = [\"label-0\", \"label-1\"]  # need class_names for classifier\n",
    "              )  \n",
    "              \n",
    "viz.view() "
   ]
  },
  {
   "cell_type": "markdown",
   "metadata": {},
   "source": [
    "### K-Fold Target Encoding"
   ]
  },
  {
   "cell_type": "code",
   "execution_count": 162,
   "metadata": {},
   "outputs": [],
   "source": [
    "from category_encoders.target_encoder import TargetEncoder\n",
    "from sklearn.model_selection import KFold"
   ]
  },
  {
   "cell_type": "code",
   "execution_count": 194,
   "metadata": {},
   "outputs": [],
   "source": [
    "def target_encoder_regularized(train, cols_encode, target, folds=4):\n",
    "    \"\"\"\n",
    "    Mean regularized target encoding based on kfold\n",
    "    \"\"\"\n",
    "\n",
    "    kf = KFold(n_splits=folds, random_state=1)\n",
    "\n",
    "    for col in cols_encode:\n",
    "        global_mean = train[target].mean()\n",
    "\n",
    "        for train_index, test_index in kf.split(train):\n",
    "            mean_target = train.iloc[train_index].groupby(col)[target].mean()\n",
    "            train.loc[test_index, col + \"_mean_enc\"] = train.loc[test_index, col].map(mean_target)\n",
    "        train[col + \"_mean_enc\"].fillna(global_mean, inplace=True)\n",
    "    return train"
   ]
  },
  {
   "cell_type": "code",
   "execution_count": 204,
   "metadata": {},
   "outputs": [],
   "source": [
    "X_encode = target_encoder_regularized(pd.concat([X, pd.DataFrame({\"y\":target})], axis=1), \"x\", \"y\")\n",
    "X_encode = pd.DataFrame({\"x\": X_encode[\"x_mean_enc\"]})"
   ]
  },
  {
   "cell_type": "code",
   "execution_count": 140,
   "metadata": {},
   "outputs": [],
   "source": [
    "encoder = TargetEncoder(cols=\"x\")\n",
    "encoder.fit(X, target)\n",
    "X_encode = encoder.transform(X, target)"
   ]
  },
  {
   "cell_type": "code",
   "execution_count": 143,
   "metadata": {},
   "outputs": [],
   "source": [
    "classifier = tree.DecisionTreeClassifier(max_depth=5)  # limit depth of tree\n",
    "classifier.fit(X_encode, target)\n",
    "\n",
    "viz = dtreeviz(classifier, \n",
    "               X_encode, \n",
    "               target,\n",
    "               target_name='target',\n",
    "              feature_names= X_encode.columns, \n",
    "              class_names = [\"label-0\", \"label-1\"]  # need class_names for classifier\n",
    "              )  \n",
    "              \n",
    "viz.view() "
   ]
  },
  {
   "cell_type": "markdown",
   "metadata": {},
   "source": [
    "### Catboost Encoding"
   ]
  },
  {
   "cell_type": "code",
   "execution_count": 150,
   "metadata": {},
   "outputs": [],
   "source": [
    "def catboost_target_encoder(train, cols_encode, target):\n",
    "    train_new = train.copy()\n",
    "    for column in cols_encode:\n",
    "        global_mean = train[target].mean()\n",
    "        cumulative_sum = train.groupby(column)[target].cumsum() - train[target]\n",
    "        cumulative_count = train.groupby(column).cumcount()\n",
    "        train_new[column + \"_cat_mean_target\"] = cumulative_sum/cumulative_count\n",
    "        train_new[column + \"_cat_mean_target\"].fillna(global_mean, inplace=True)\n",
    "    return train_new"
   ]
  },
  {
   "cell_type": "code",
   "execution_count": 153,
   "metadata": {},
   "outputs": [],
   "source": [
    "X_cat = catboost_target_encoder(pd.concat([X, pd.DataFrame({\"y\":target})], axis=1), \"x\", \"y\")\n",
    "X_cat = pd.DataFrame({\"x\": X_cat[\"x_cat_mean_target\"]})"
   ]
  },
  {
   "cell_type": "code",
   "execution_count": null,
   "metadata": {},
   "outputs": [],
   "source": [
    "classifier = tree.DecisionTreeClassifier(max_depth=5)  # limit depth of tree\n",
    "classifier.fit(X_cat, target)\n",
    "\n",
    "viz = dtreeviz(classifier, \n",
    "               X_cat, \n",
    "               target,\n",
    "               target_name='target',\n",
    "              feature_names= \"x\", \n",
    "              class_names = [\"label-0\", \"label-1\"]  # need class_names for classifier\n",
    "              )  \n",
    "              \n",
    "viz.view() "
   ]
  },
  {
   "cell_type": "code",
   "execution_count": null,
   "metadata": {},
   "outputs": [],
   "source": []
  }
 ],
 "metadata": {
  "kernelspec": {
   "display_name": "Python 3",
   "language": "python",
   "name": "python3"
  },
  "language_info": {
   "codemirror_mode": {
    "name": "ipython",
    "version": 3
   },
   "file_extension": ".py",
   "mimetype": "text/x-python",
   "name": "python",
   "nbconvert_exporter": "python",
   "pygments_lexer": "ipython3",
   "version": "3.7.3"
  }
 },
 "nbformat": 4,
 "nbformat_minor": 2
}
