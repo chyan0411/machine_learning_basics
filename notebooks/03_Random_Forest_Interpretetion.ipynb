{
 "cells": [
  {
   "cell_type": "markdown",
   "metadata": {},
   "source": [
    "## Loading libraries"
   ]
  },
  {
   "cell_type": "code",
   "execution_count": 1,
   "metadata": {},
   "outputs": [],
   "source": [
    "from sklearn.tree import DecisionTreeClassifier"
   ]
  },
  {
   "cell_type": "code",
   "execution_count": 2,
   "metadata": {},
   "outputs": [],
   "source": [
    "??DecisionTreeClassifier"
   ]
  },
  {
   "cell_type": "code",
   "execution_count": 3,
   "metadata": {},
   "outputs": [],
   "source": [
    "%load_ext autoreload\n",
    "%autoreload 2"
   ]
  },
  {
   "cell_type": "code",
   "execution_count": 4,
   "metadata": {},
   "outputs": [],
   "source": [
    "import sys\n",
    "sys.path.append('/Users/groverprince/Documents/msan/msan_ml/fastai')"
   ]
  },
  {
   "cell_type": "code",
   "execution_count": 5,
   "metadata": {},
   "outputs": [],
   "source": [
    "%matplotlib inline\n",
    "\n",
    "import warnings\n",
    "warnings.filterwarnings('ignore')\n",
    "\n",
    "from fastai.imports import *\n",
    "from fastai.structured import *\n",
    "from sklearn.ensemble import RandomForestRegressor, RandomForestClassifier\n",
    "from IPython.display import display\n",
    "from sklearn import metrics\n",
    "from ggplot import *"
   ]
  },
  {
   "cell_type": "markdown",
   "metadata": {},
   "source": [
    "## Loading feather data already half processed"
   ]
  },
  {
   "cell_type": "code",
   "execution_count": 6,
   "metadata": {},
   "outputs": [],
   "source": [
    "PATH = \"/Users/groverprince/Documents/msan/msan_ml/fastai/courses/ml1\"\n",
    "\n",
    "df_raw = pd.read_feather('/Users/groverprince/Documents/msan/msan_ml/fastai/courses/ml1/tmp/raw')\n",
    "df_trn, y_trn, nas = proc_df(df_raw, 'SalePrice')"
   ]
  },
  {
   "cell_type": "code",
   "execution_count": 5,
   "metadata": {
    "collapsed": true
   },
   "outputs": [],
   "source": [
    "def split_vals(a,n): return a[:n], a[n:]\n",
    "n_valid = 12000\n",
    "n_trn = len(df_trn)-n_valid\n",
    "X_train, X_valid = split_vals(df_trn, n_trn)\n",
    "y_train, y_valid = split_vals(y_trn, n_trn)\n",
    "raw_train, raw_valid = split_vals(df_raw, n_trn)"
   ]
  },
  {
   "cell_type": "markdown",
   "metadata": {},
   "source": [
    "## Random forest from scratch (copied from Jeremy's)"
   ]
  },
  {
   "cell_type": "code",
   "execution_count": 13,
   "metadata": {},
   "outputs": [
    {
     "data": {
      "text/plain": [
       "array([6, 5, 7, 9, 1])"
      ]
     },
     "execution_count": 13,
     "metadata": {},
     "output_type": "execute_result"
    }
   ],
   "source": [
    "np.random.permutation(np.arange(10))[:5]"
   ]
  },
  {
   "cell_type": "code",
   "execution_count": 6,
   "metadata": {
    "collapsed": true
   },
   "outputs": [],
   "source": [
    "class TreeEnsemble():\n",
    "    def __init__(self, x, y, n_trees, sample_sz, min_leaf=5):\n",
    "        np.random.seed(42)\n",
    "        self.x,self.y,self.sample_sz,self.min_leaf = x,y,sample_sz,min_leaf\n",
    "        self.trees = [self.create_tree() for i in range(n_trees)]\n",
    "                \n",
    "    def tree_std(self,x_val): pass\n",
    "    def pred_ci(self, x_val) : pass\n",
    "    def plot_ci(self, x_val, y_val, n_pnt=100): pass\n",
    "    \n",
    "    def create_tree(self):\n",
    "        idxs = np.random.permutation(len(self.y))[:self.sample_sz]\n",
    "#         return DecisionTree(self.x.iloc[idxs], self.y[idxs], \n",
    "#                     idxs=np.array(range(self.sample_sz)), min_leaf=self.min_leaf)\n",
    "        return DecisionTree(self.x.iloc[idxs], self.y[idxs], \n",
    "                    idxs=np.array(range(self.sample_sz)), min_leaf=self.min_leaf)\n",
    "        \n",
    "    def predict(self, x):\n",
    "        return np.mean([t.predict(x) for t in self.trees], axis=0)\n",
    "\n",
    "def std_agg(cnt, s1, s2): return math.sqrt((s2/cnt) - (s1/cnt)**2)"
   ]
  },
  {
   "cell_type": "code",
   "execution_count": 7,
   "metadata": {
    "collapsed": true
   },
   "outputs": [],
   "source": [
    "class DecisionTree():\n",
    "    def __init__(self, x, y, idxs, min_leaf=5):\n",
    "        self.x,self.y,self.idxs,self.min_leaf = x,y,idxs,min_leaf\n",
    "        self.n,self.c = len(idxs), x.shape[1]\n",
    "        self.val = np.mean(y[idxs])\n",
    "        self.score = float('inf')\n",
    "        self.find_varsplit()\n",
    "        #self.path = []\n",
    "        \n",
    "    def find_varsplit(self):\n",
    "        for i in range(self.c): self.find_better_split(i)\n",
    "        if self.score == float('inf'): return\n",
    "        x = self.split_col\n",
    "        lhs = np.nonzero(x<=self.split)[0]\n",
    "        rhs = np.nonzero(x>self.split)[0]\n",
    "        self.lhs = DecisionTree(self.x, self.y, self.idxs[lhs])\n",
    "        self.rhs = DecisionTree(self.x, self.y, self.idxs[rhs])\n",
    "\n",
    "    def find_better_split(self, var_idx):\n",
    "        x,y = self.x.values[self.idxs,var_idx], self.y[self.idxs]\n",
    "        sort_idx = np.argsort(x)\n",
    "        sort_y,sort_x = y[sort_idx], x[sort_idx]\n",
    "        rhs_cnt,rhs_sum,rhs_sum2 = self.n, sort_y.sum(), (sort_y**2).sum()\n",
    "        lhs_cnt,lhs_sum,lhs_sum2 = 0,0.,0.\n",
    "\n",
    "        for i in range(0,self.n-self.min_leaf-1):\n",
    "            xi,yi = sort_x[i],sort_y[i]\n",
    "            lhs_cnt += 1; rhs_cnt -= 1\n",
    "            lhs_sum += yi; rhs_sum -= yi\n",
    "            lhs_sum2 += yi**2; rhs_sum2 -= yi**2\n",
    "            if i<self.min_leaf or xi==sort_x[i+1]:\n",
    "                continue\n",
    "\n",
    "            lhs_std = std_agg(lhs_cnt, lhs_sum, lhs_sum2)\n",
    "            rhs_std = std_agg(rhs_cnt, rhs_sum, rhs_sum2)\n",
    "            curr_score = lhs_std*lhs_cnt + rhs_std*rhs_cnt\n",
    "            if curr_score<self.score: \n",
    "                self.var_idx,self.score,self.split = var_idx,curr_score,xi\n",
    "\n",
    "    @property\n",
    "    def split_name(self): return self.x.columns[self.var_idx]\n",
    "    \n",
    "    @property\n",
    "    def split_col(self): return self.x.values[self.idxs,self.var_idx]\n",
    "\n",
    "    @property\n",
    "    def is_leaf(self): return self.score == float('inf')\n",
    "    \n",
    "    def __repr__(self):\n",
    "        s = f'n: {self.n}; val:{self.val}'\n",
    "        if not self.is_leaf:\n",
    "            s += f'; score:{self.score}; split:{self.split}; var:{self.split_name}'\n",
    "        return s\n",
    "\n",
    "    def predict(self, x):\n",
    "        return np.array([self.predict_row(xi) for xi in x])\n",
    "\n",
    "    def predict_row(self, xi):\n",
    "        if self.is_leaf: return self.val\n",
    "        t = self.lhs if xi[self.var_idx]<=self.split else self.rhs\n",
    "        return t.predict_row(xi) \n",
    "    \n",
    "    def contributions(self, xi): pass\n",
    "        \n",
    "       "
   ]
  },
  {
   "cell_type": "markdown",
   "metadata": {},
   "source": [
    "## Random forest interpretetion from scratch (self)"
   ]
  },
  {
   "cell_type": "markdown",
   "metadata": {},
   "source": [
    "### Confidence based on tree variance. \n",
    "\n",
    "The idea is to take out predictions of all the validation observations and find for which of those validation data points, we are least confident. Then we can look at some pattern in those \n",
    "\n",
    "(Standard deviation means std deviation of Yi predictions from n_estimators. Output will have n_rows as number of rows in validation set)"
   ]
  },
  {
   "cell_type": "markdown",
   "metadata": {},
   "source": [
    "**What are we going to get out of this -- **  \n",
    "\n",
    "* For *categorical variables*, for which category we are least confident about predictions . \n",
    "* For *continuous variables*, in what range are we least confident about predictions . "
   ]
  },
  {
   "cell_type": "code",
   "execution_count": 336,
   "metadata": {
    "collapsed": true
   },
   "outputs": [],
   "source": [
    "def tree_std(self,x_val):\n",
    "    std =  np.std([t.predict(x_val) for t in self.trees], axis=0)\n",
    "    self.std = std\n",
    "    return std\n",
    "\n",
    "TreeEnsemble.tree_std = tree_std\n",
    "\n",
    "def pred_ci(self, x_val, percentile = 95):   \n",
    "    \n",
    "    \"\"\"\n",
    "    x_val = validation input\n",
    "    percentile = required confidence level\n",
    "    \"\"\"\n",
    "\n",
    "    allTree_preds = np.stack([t.predict(x_val) for t in self.trees], axis = 0)\n",
    "    \n",
    "    err_down = np.percentile(allTree_preds, (100 - percentile) / 2.0  ,axis=0)\n",
    "    err_up = np.percentile(allTree_preds, 100- (100 - percentile) / 2.0  ,axis=0)\n",
    "    \n",
    "    self.err_down = err_down\n",
    "    self.err_up = err_up\n",
    "    \n",
    "    return err_down, err_up\n",
    "    \n",
    "TreeEnsemble.pred_ci = pred_ci\n",
    "                \n",
    "    \n",
    "def plot_ci(self, x_val, y_val, n_pnt=100, doPlot=True):\n",
    "    \"\"\"\n",
    "    x_val = validation input (independent)\n",
    "    y_val = validation output (dependent)\n",
    "    n_pnt = number of indexes to be shown in plot (sorted based on least confident predictions)\n",
    "\n",
    "    \"\"\"\n",
    "    ci = self.pred_ci(x_val)[1] - self.pred_ci(x_val)[0]\n",
    "    #plt_indx = np.argsort(-ci)[n_pnt]\n",
    "    plt_idx = np.argsort(ci)[::-1][:n_pnt]\n",
    "    yhat = self.predict(x_val)\n",
    "    y = y_val\n",
    "    \n",
    "    df = pd.DataFrame()\n",
    "    df['down'] = self.pred_ci(x_val)[0] \n",
    "    df['up'] = self.pred_ci(x_val)[1]\n",
    "    df['y'] = y\n",
    "    df['yhat'] = yhat\n",
    "    df['error'] = df['up'] - df['down']\n",
    "    \n",
    "    df_out = df.iloc[plt_idx]\n",
    "    df_out.reset_index(inplace=True)\n",
    "    \n",
    "    \n",
    "    if doPlot is True :\n",
    "        plt.figure(figsize= (15,7))\n",
    "\n",
    "        plt.errorbar(df_out['index'], df_out['yhat'], yerr= df_out['error'], fmt='o',\n",
    "                     ecolor='g',  elinewidth = 0.4)\n",
    "        plt.plot(df_out['index'], df_out['y'], 'r^')\n",
    "        plt.xlabel('Index')\n",
    "        plt.ylabel('Predictions')\n",
    "        plt.title(f'Prediction intervals for worse {n_pnt} predictions')\n",
    "        plt.locator_params(nbins=4)\n",
    "        plt.legend()\n",
    "        plt.show()\n",
    "    \n",
    "    return plt_idx, df\n",
    "    \n",
    "TreeEnsemble.plot_ci = plot_ci\n",
    "        "
   ]
  },
  {
   "cell_type": "code",
   "execution_count": 11,
   "metadata": {
    "collapsed": true
   },
   "outputs": [],
   "source": [
    "cols = ['MachineID', 'YearMade', 'MachineHoursCurrentMeter', 'ProductSize', 'Enclosure',\n",
    "        'Coupler_System', 'saleYear']"
   ]
  },
  {
   "cell_type": "code",
   "execution_count": 490,
   "metadata": {
    "collapsed": true
   },
   "outputs": [],
   "source": [
    "ens = TreeEnsemble(X_train[cols], y_train, 5, 1000)"
   ]
  },
  {
   "cell_type": "code",
   "execution_count": 359,
   "metadata": {
    "scrolled": false
   },
   "outputs": [
    {
     "data": {
      "image/png": "[encoded data removed]",
      "text/plain": [
       "<matplotlib.figure.Figure at 0x12213ea20>"
      ]
     },
     "metadata": {},
     "output_type": "display_data"
    }
   ],
   "source": [
    "# features with maximum confidence interval and worse n predictions \n",
    "pred_int = X_valid[cols].iloc[ens.plot_ci(X_valid[cols].values, y_valid, 100)[0]]"
   ]
  },
  {
   "cell_type": "code",
   "execution_count": 360,
   "metadata": {
    "scrolled": true
   },
   "outputs": [
    {
     "data": {
      "text/html": [
       "<div>\n",
       "<style>\n",
       "    .dataframe thead tr:only-child th {\n",
       "        text-align: right;\n",
       "    }\n",
       "\n",
       "    .dataframe thead th {\n",
       "        text-align: left;\n",
       "    }\n",
       "\n",
       "    .dataframe tbody tr th {\n",
       "        vertical-align: top;\n",
       "    }\n",
       "</style>\n",
       "<table border=\"1\" class=\"dataframe\">\n",
       "  <thead>\n",
       "    <tr style=\"text-align: right;\">\n",
       "      <th></th>\n",
       "      <th>MachineID</th>\n",
       "      <th>YearMade</th>\n",
       "      <th>MachineHoursCurrentMeter</th>\n",
       "      <th>ProductSize</th>\n",
       "      <th>Enclosure</th>\n",
       "      <th>Coupler_System</th>\n",
       "      <th>saleYear</th>\n",
       "    </tr>\n",
       "  </thead>\n",
       "  <tbody>\n",
       "    <tr>\n",
       "      <th>394558</th>\n",
       "      <td>1319057</td>\n",
       "      <td>1986</td>\n",
       "      <td>0.0</td>\n",
       "      <td>0</td>\n",
       "      <td>3</td>\n",
       "      <td>0</td>\n",
       "      <td>2011</td>\n",
       "    </tr>\n",
       "    <tr>\n",
       "      <th>394028</th>\n",
       "      <td>1275846</td>\n",
       "      <td>1986</td>\n",
       "      <td>0.0</td>\n",
       "      <td>0</td>\n",
       "      <td>3</td>\n",
       "      <td>0</td>\n",
       "      <td>2011</td>\n",
       "    </tr>\n",
       "    <tr>\n",
       "      <th>395593</th>\n",
       "      <td>384547</td>\n",
       "      <td>1000</td>\n",
       "      <td>0.0</td>\n",
       "      <td>5</td>\n",
       "      <td>1</td>\n",
       "      <td>0</td>\n",
       "      <td>2011</td>\n",
       "    </tr>\n",
       "    <tr>\n",
       "      <th>394062</th>\n",
       "      <td>574764</td>\n",
       "      <td>1983</td>\n",
       "      <td>0.0</td>\n",
       "      <td>4</td>\n",
       "      <td>1</td>\n",
       "      <td>0</td>\n",
       "      <td>2011</td>\n",
       "    </tr>\n",
       "    <tr>\n",
       "      <th>394333</th>\n",
       "      <td>1290844</td>\n",
       "      <td>1991</td>\n",
       "      <td>0.0</td>\n",
       "      <td>0</td>\n",
       "      <td>3</td>\n",
       "      <td>0</td>\n",
       "      <td>2011</td>\n",
       "    </tr>\n",
       "    <tr>\n",
       "      <th>393078</th>\n",
       "      <td>1791687</td>\n",
       "      <td>1984</td>\n",
       "      <td>0.0</td>\n",
       "      <td>2</td>\n",
       "      <td>3</td>\n",
       "      <td>0</td>\n",
       "      <td>2011</td>\n",
       "    </tr>\n",
       "    <tr>\n",
       "      <th>393769</th>\n",
       "      <td>1838187</td>\n",
       "      <td>1984</td>\n",
       "      <td>0.0</td>\n",
       "      <td>2</td>\n",
       "      <td>3</td>\n",
       "      <td>0</td>\n",
       "      <td>2011</td>\n",
       "    </tr>\n",
       "    <tr>\n",
       "      <th>393070</th>\n",
       "      <td>1807106</td>\n",
       "      <td>1984</td>\n",
       "      <td>0.0</td>\n",
       "      <td>2</td>\n",
       "      <td>6</td>\n",
       "      <td>0</td>\n",
       "      <td>2011</td>\n",
       "    </tr>\n",
       "    <tr>\n",
       "      <th>394536</th>\n",
       "      <td>1828168</td>\n",
       "      <td>1985</td>\n",
       "      <td>0.0</td>\n",
       "      <td>2</td>\n",
       "      <td>1</td>\n",
       "      <td>0</td>\n",
       "      <td>2011</td>\n",
       "    </tr>\n",
       "    <tr>\n",
       "      <th>393069</th>\n",
       "      <td>1809809</td>\n",
       "      <td>1984</td>\n",
       "      <td>0.0</td>\n",
       "      <td>2</td>\n",
       "      <td>1</td>\n",
       "      <td>0</td>\n",
       "      <td>2011</td>\n",
       "    </tr>\n",
       "    <tr>\n",
       "      <th>393073</th>\n",
       "      <td>1879735</td>\n",
       "      <td>1984</td>\n",
       "      <td>0.0</td>\n",
       "      <td>2</td>\n",
       "      <td>3</td>\n",
       "      <td>0</td>\n",
       "      <td>2011</td>\n",
       "    </tr>\n",
       "    <tr>\n",
       "      <th>398866</th>\n",
       "      <td>1806392</td>\n",
       "      <td>1984</td>\n",
       "      <td>0.0</td>\n",
       "      <td>2</td>\n",
       "      <td>6</td>\n",
       "      <td>0</td>\n",
       "      <td>2011</td>\n",
       "    </tr>\n",
       "    <tr>\n",
       "      <th>393074</th>\n",
       "      <td>1875745</td>\n",
       "      <td>1984</td>\n",
       "      <td>0.0</td>\n",
       "      <td>2</td>\n",
       "      <td>3</td>\n",
       "      <td>0</td>\n",
       "      <td>2011</td>\n",
       "    </tr>\n",
       "    <tr>\n",
       "      <th>393560</th>\n",
       "      <td>1925412</td>\n",
       "      <td>1985</td>\n",
       "      <td>0.0</td>\n",
       "      <td>2</td>\n",
       "      <td>3</td>\n",
       "      <td>0</td>\n",
       "      <td>2011</td>\n",
       "    </tr>\n",
       "    <tr>\n",
       "      <th>396211</th>\n",
       "      <td>1813643</td>\n",
       "      <td>1984</td>\n",
       "      <td>0.0</td>\n",
       "      <td>2</td>\n",
       "      <td>1</td>\n",
       "      <td>0</td>\n",
       "      <td>2011</td>\n",
       "    </tr>\n",
       "    <tr>\n",
       "      <th>393071</th>\n",
       "      <td>1924697</td>\n",
       "      <td>1984</td>\n",
       "      <td>0.0</td>\n",
       "      <td>2</td>\n",
       "      <td>6</td>\n",
       "      <td>0</td>\n",
       "      <td>2011</td>\n",
       "    </tr>\n",
       "    <tr>\n",
       "      <th>393072</th>\n",
       "      <td>1939065</td>\n",
       "      <td>1984</td>\n",
       "      <td>0.0</td>\n",
       "      <td>2</td>\n",
       "      <td>6</td>\n",
       "      <td>0</td>\n",
       "      <td>2011</td>\n",
       "    </tr>\n",
       "    <tr>\n",
       "      <th>396212</th>\n",
       "      <td>1883763</td>\n",
       "      <td>1984</td>\n",
       "      <td>0.0</td>\n",
       "      <td>2</td>\n",
       "      <td>1</td>\n",
       "      <td>0</td>\n",
       "      <td>2011</td>\n",
       "    </tr>\n",
       "    <tr>\n",
       "      <th>393077</th>\n",
       "      <td>1836132</td>\n",
       "      <td>1985</td>\n",
       "      <td>0.0</td>\n",
       "      <td>2</td>\n",
       "      <td>6</td>\n",
       "      <td>0</td>\n",
       "      <td>2011</td>\n",
       "    </tr>\n",
       "    <tr>\n",
       "      <th>394348</th>\n",
       "      <td>5765</td>\n",
       "      <td>1994</td>\n",
       "      <td>0.0</td>\n",
       "      <td>0</td>\n",
       "      <td>1</td>\n",
       "      <td>0</td>\n",
       "      <td>2011</td>\n",
       "    </tr>\n",
       "    <tr>\n",
       "      <th>393959</th>\n",
       "      <td>327575</td>\n",
       "      <td>1994</td>\n",
       "      <td>0.0</td>\n",
       "      <td>0</td>\n",
       "      <td>1</td>\n",
       "      <td>0</td>\n",
       "      <td>2011</td>\n",
       "    </tr>\n",
       "    <tr>\n",
       "      <th>394036</th>\n",
       "      <td>63657</td>\n",
       "      <td>1994</td>\n",
       "      <td>0.0</td>\n",
       "      <td>0</td>\n",
       "      <td>1</td>\n",
       "      <td>0</td>\n",
       "      <td>2011</td>\n",
       "    </tr>\n",
       "    <tr>\n",
       "      <th>394037</th>\n",
       "      <td>63657</td>\n",
       "      <td>1994</td>\n",
       "      <td>0.0</td>\n",
       "      <td>0</td>\n",
       "      <td>1</td>\n",
       "      <td>0</td>\n",
       "      <td>2011</td>\n",
       "    </tr>\n",
       "    <tr>\n",
       "      <th>392276</th>\n",
       "      <td>211171</td>\n",
       "      <td>1994</td>\n",
       "      <td>0.0</td>\n",
       "      <td>0</td>\n",
       "      <td>1</td>\n",
       "      <td>0</td>\n",
       "      <td>2011</td>\n",
       "    </tr>\n",
       "    <tr>\n",
       "      <th>394675</th>\n",
       "      <td>987051</td>\n",
       "      <td>1992</td>\n",
       "      <td>0.0</td>\n",
       "      <td>4</td>\n",
       "      <td>1</td>\n",
       "      <td>0</td>\n",
       "      <td>2011</td>\n",
       "    </tr>\n",
       "    <tr>\n",
       "      <th>393486</th>\n",
       "      <td>6841</td>\n",
       "      <td>1990</td>\n",
       "      <td>0.0</td>\n",
       "      <td>4</td>\n",
       "      <td>1</td>\n",
       "      <td>0</td>\n",
       "      <td>2011</td>\n",
       "    </tr>\n",
       "    <tr>\n",
       "      <th>392594</th>\n",
       "      <td>714159</td>\n",
       "      <td>1991</td>\n",
       "      <td>0.0</td>\n",
       "      <td>4</td>\n",
       "      <td>1</td>\n",
       "      <td>0</td>\n",
       "      <td>2011</td>\n",
       "    </tr>\n",
       "    <tr>\n",
       "      <th>399069</th>\n",
       "      <td>356368</td>\n",
       "      <td>1992</td>\n",
       "      <td>0.0</td>\n",
       "      <td>3</td>\n",
       "      <td>1</td>\n",
       "      <td>0</td>\n",
       "      <td>2011</td>\n",
       "    </tr>\n",
       "    <tr>\n",
       "      <th>399063</th>\n",
       "      <td>122641</td>\n",
       "      <td>1990</td>\n",
       "      <td>0.0</td>\n",
       "      <td>3</td>\n",
       "      <td>1</td>\n",
       "      <td>0</td>\n",
       "      <td>2011</td>\n",
       "    </tr>\n",
       "    <tr>\n",
       "      <th>394191</th>\n",
       "      <td>544422</td>\n",
       "      <td>1991</td>\n",
       "      <td>0.0</td>\n",
       "      <td>3</td>\n",
       "      <td>1</td>\n",
       "      <td>0</td>\n",
       "      <td>2011</td>\n",
       "    </tr>\n",
       "    <tr>\n",
       "      <th>...</th>\n",
       "      <td>...</td>\n",
       "      <td>...</td>\n",
       "      <td>...</td>\n",
       "      <td>...</td>\n",
       "      <td>...</td>\n",
       "      <td>...</td>\n",
       "      <td>...</td>\n",
       "    </tr>\n",
       "    <tr>\n",
       "      <th>398910</th>\n",
       "      <td>1939496</td>\n",
       "      <td>1993</td>\n",
       "      <td>0.0</td>\n",
       "      <td>2</td>\n",
       "      <td>6</td>\n",
       "      <td>0</td>\n",
       "      <td>2011</td>\n",
       "    </tr>\n",
       "    <tr>\n",
       "      <th>394421</th>\n",
       "      <td>1800472</td>\n",
       "      <td>1986</td>\n",
       "      <td>0.0</td>\n",
       "      <td>2</td>\n",
       "      <td>3</td>\n",
       "      <td>0</td>\n",
       "      <td>2011</td>\n",
       "    </tr>\n",
       "    <tr>\n",
       "      <th>393941</th>\n",
       "      <td>1596820</td>\n",
       "      <td>1993</td>\n",
       "      <td>0.0</td>\n",
       "      <td>2</td>\n",
       "      <td>6</td>\n",
       "      <td>0</td>\n",
       "      <td>2011</td>\n",
       "    </tr>\n",
       "    <tr>\n",
       "      <th>394424</th>\n",
       "      <td>1796323</td>\n",
       "      <td>1986</td>\n",
       "      <td>0.0</td>\n",
       "      <td>2</td>\n",
       "      <td>3</td>\n",
       "      <td>0</td>\n",
       "      <td>2011</td>\n",
       "    </tr>\n",
       "    <tr>\n",
       "      <th>393942</th>\n",
       "      <td>1919932</td>\n",
       "      <td>1993</td>\n",
       "      <td>0.0</td>\n",
       "      <td>2</td>\n",
       "      <td>1</td>\n",
       "      <td>0</td>\n",
       "      <td>2011</td>\n",
       "    </tr>\n",
       "    <tr>\n",
       "      <th>400608</th>\n",
       "      <td>1804238</td>\n",
       "      <td>1991</td>\n",
       "      <td>0.0</td>\n",
       "      <td>2</td>\n",
       "      <td>1</td>\n",
       "      <td>0</td>\n",
       "      <td>2011</td>\n",
       "    </tr>\n",
       "    <tr>\n",
       "      <th>394426</th>\n",
       "      <td>1567544</td>\n",
       "      <td>1988</td>\n",
       "      <td>0.0</td>\n",
       "      <td>2</td>\n",
       "      <td>6</td>\n",
       "      <td>0</td>\n",
       "      <td>2011</td>\n",
       "    </tr>\n",
       "    <tr>\n",
       "      <th>394427</th>\n",
       "      <td>1927536</td>\n",
       "      <td>1993</td>\n",
       "      <td>0.0</td>\n",
       "      <td>2</td>\n",
       "      <td>1</td>\n",
       "      <td>0</td>\n",
       "      <td>2011</td>\n",
       "    </tr>\n",
       "    <tr>\n",
       "      <th>394422</th>\n",
       "      <td>1857754</td>\n",
       "      <td>1986</td>\n",
       "      <td>0.0</td>\n",
       "      <td>2</td>\n",
       "      <td>3</td>\n",
       "      <td>0</td>\n",
       "      <td>2011</td>\n",
       "    </tr>\n",
       "    <tr>\n",
       "      <th>400609</th>\n",
       "      <td>1890749</td>\n",
       "      <td>1989</td>\n",
       "      <td>0.0</td>\n",
       "      <td>2</td>\n",
       "      <td>1</td>\n",
       "      <td>0</td>\n",
       "      <td>2011</td>\n",
       "    </tr>\n",
       "    <tr>\n",
       "      <th>393427</th>\n",
       "      <td>1861557</td>\n",
       "      <td>1988</td>\n",
       "      <td>0.0</td>\n",
       "      <td>2</td>\n",
       "      <td>6</td>\n",
       "      <td>0</td>\n",
       "      <td>2011</td>\n",
       "    </tr>\n",
       "    <tr>\n",
       "      <th>398006</th>\n",
       "      <td>1846933</td>\n",
       "      <td>1993</td>\n",
       "      <td>0.0</td>\n",
       "      <td>2</td>\n",
       "      <td>1</td>\n",
       "      <td>0</td>\n",
       "      <td>2011</td>\n",
       "    </tr>\n",
       "    <tr>\n",
       "      <th>398773</th>\n",
       "      <td>1897056</td>\n",
       "      <td>1989</td>\n",
       "      <td>0.0</td>\n",
       "      <td>2</td>\n",
       "      <td>3</td>\n",
       "      <td>0</td>\n",
       "      <td>2011</td>\n",
       "    </tr>\n",
       "    <tr>\n",
       "      <th>397994</th>\n",
       "      <td>1911811</td>\n",
       "      <td>1987</td>\n",
       "      <td>0.0</td>\n",
       "      <td>2</td>\n",
       "      <td>1</td>\n",
       "      <td>0</td>\n",
       "      <td>2011</td>\n",
       "    </tr>\n",
       "    <tr>\n",
       "      <th>393948</th>\n",
       "      <td>1656398</td>\n",
       "      <td>1988</td>\n",
       "      <td>0.0</td>\n",
       "      <td>2</td>\n",
       "      <td>3</td>\n",
       "      <td>0</td>\n",
       "      <td>2011</td>\n",
       "    </tr>\n",
       "    <tr>\n",
       "      <th>391397</th>\n",
       "      <td>2303611</td>\n",
       "      <td>1991</td>\n",
       "      <td>7638.0</td>\n",
       "      <td>2</td>\n",
       "      <td>3</td>\n",
       "      <td>0</td>\n",
       "      <td>2011</td>\n",
       "    </tr>\n",
       "    <tr>\n",
       "      <th>398034</th>\n",
       "      <td>1789123</td>\n",
       "      <td>1987</td>\n",
       "      <td>0.0</td>\n",
       "      <td>2</td>\n",
       "      <td>6</td>\n",
       "      <td>0</td>\n",
       "      <td>2011</td>\n",
       "    </tr>\n",
       "    <tr>\n",
       "      <th>394545</th>\n",
       "      <td>111161</td>\n",
       "      <td>1975</td>\n",
       "      <td>0.0</td>\n",
       "      <td>0</td>\n",
       "      <td>1</td>\n",
       "      <td>0</td>\n",
       "      <td>2011</td>\n",
       "    </tr>\n",
       "    <tr>\n",
       "      <th>394819</th>\n",
       "      <td>1489095</td>\n",
       "      <td>1983</td>\n",
       "      <td>0.0</td>\n",
       "      <td>0</td>\n",
       "      <td>3</td>\n",
       "      <td>0</td>\n",
       "      <td>2011</td>\n",
       "    </tr>\n",
       "    <tr>\n",
       "      <th>394328</th>\n",
       "      <td>652080</td>\n",
       "      <td>1990</td>\n",
       "      <td>0.0</td>\n",
       "      <td>0</td>\n",
       "      <td>3</td>\n",
       "      <td>0</td>\n",
       "      <td>2011</td>\n",
       "    </tr>\n",
       "    <tr>\n",
       "      <th>394549</th>\n",
       "      <td>120095</td>\n",
       "      <td>1978</td>\n",
       "      <td>0.0</td>\n",
       "      <td>0</td>\n",
       "      <td>1</td>\n",
       "      <td>0</td>\n",
       "      <td>2011</td>\n",
       "    </tr>\n",
       "    <tr>\n",
       "      <th>394737</th>\n",
       "      <td>147478</td>\n",
       "      <td>1996</td>\n",
       "      <td>0.0</td>\n",
       "      <td>0</td>\n",
       "      <td>1</td>\n",
       "      <td>0</td>\n",
       "      <td>2011</td>\n",
       "    </tr>\n",
       "    <tr>\n",
       "      <th>393990</th>\n",
       "      <td>328744</td>\n",
       "      <td>1997</td>\n",
       "      <td>0.0</td>\n",
       "      <td>0</td>\n",
       "      <td>1</td>\n",
       "      <td>0</td>\n",
       "      <td>2011</td>\n",
       "    </tr>\n",
       "    <tr>\n",
       "      <th>394181</th>\n",
       "      <td>328738</td>\n",
       "      <td>1996</td>\n",
       "      <td>0.0</td>\n",
       "      <td>0</td>\n",
       "      <td>1</td>\n",
       "      <td>0</td>\n",
       "      <td>2011</td>\n",
       "    </tr>\n",
       "    <tr>\n",
       "      <th>394182</th>\n",
       "      <td>89909</td>\n",
       "      <td>1996</td>\n",
       "      <td>0.0</td>\n",
       "      <td>0</td>\n",
       "      <td>1</td>\n",
       "      <td>0</td>\n",
       "      <td>2011</td>\n",
       "    </tr>\n",
       "    <tr>\n",
       "      <th>394218</th>\n",
       "      <td>353109</td>\n",
       "      <td>1997</td>\n",
       "      <td>0.0</td>\n",
       "      <td>0</td>\n",
       "      <td>1</td>\n",
       "      <td>0</td>\n",
       "      <td>2011</td>\n",
       "    </tr>\n",
       "    <tr>\n",
       "      <th>393668</th>\n",
       "      <td>221979</td>\n",
       "      <td>1998</td>\n",
       "      <td>0.0</td>\n",
       "      <td>0</td>\n",
       "      <td>1</td>\n",
       "      <td>0</td>\n",
       "      <td>2011</td>\n",
       "    </tr>\n",
       "    <tr>\n",
       "      <th>393667</th>\n",
       "      <td>266425</td>\n",
       "      <td>1997</td>\n",
       "      <td>0.0</td>\n",
       "      <td>0</td>\n",
       "      <td>1</td>\n",
       "      <td>0</td>\n",
       "      <td>2011</td>\n",
       "    </tr>\n",
       "    <tr>\n",
       "      <th>394035</th>\n",
       "      <td>11622</td>\n",
       "      <td>1991</td>\n",
       "      <td>0.0</td>\n",
       "      <td>0</td>\n",
       "      <td>1</td>\n",
       "      <td>0</td>\n",
       "      <td>2011</td>\n",
       "    </tr>\n",
       "    <tr>\n",
       "      <th>393076</th>\n",
       "      <td>1490536</td>\n",
       "      <td>1985</td>\n",
       "      <td>0.0</td>\n",
       "      <td>2</td>\n",
       "      <td>3</td>\n",
       "      <td>0</td>\n",
       "      <td>2011</td>\n",
       "    </tr>\n",
       "  </tbody>\n",
       "</table>\n",
       "<p>100 rows × 7 columns</p>\n",
       "</div>"
      ],
      "text/plain": [
       "        MachineID  YearMade  MachineHoursCurrentMeter  ProductSize  Enclosure  \\\n",
       "394558    1319057      1986                       0.0            0          3   \n",
       "394028    1275846      1986                       0.0            0          3   \n",
       "395593     384547      1000                       0.0            5          1   \n",
       "394062     574764      1983                       0.0            4          1   \n",
       "394333    1290844      1991                       0.0            0          3   \n",
       "393078    1791687      1984                       0.0            2          3   \n",
       "393769    1838187      1984                       0.0            2          3   \n",
       "393070    1807106      1984                       0.0            2          6   \n",
       "394536    1828168      1985                       0.0            2          1   \n",
       "393069    1809809      1984                       0.0            2          1   \n",
       "393073    1879735      1984                       0.0            2          3   \n",
       "398866    1806392      1984                       0.0            2          6   \n",
       "393074    1875745      1984                       0.0            2          3   \n",
       "393560    1925412      1985                       0.0            2          3   \n",
       "396211    1813643      1984                       0.0            2          1   \n",
       "393071    1924697      1984                       0.0            2          6   \n",
       "393072    1939065      1984                       0.0            2          6   \n",
       "396212    1883763      1984                       0.0            2          1   \n",
       "393077    1836132      1985                       0.0            2          6   \n",
       "394348       5765      1994                       0.0            0          1   \n",
       "393959     327575      1994                       0.0            0          1   \n",
       "394036      63657      1994                       0.0            0          1   \n",
       "394037      63657      1994                       0.0            0          1   \n",
       "392276     211171      1994                       0.0            0          1   \n",
       "394675     987051      1992                       0.0            4          1   \n",
       "393486       6841      1990                       0.0            4          1   \n",
       "392594     714159      1991                       0.0            4          1   \n",
       "399069     356368      1992                       0.0            3          1   \n",
       "399063     122641      1990                       0.0            3          1   \n",
       "394191     544422      1991                       0.0            3          1   \n",
       "...           ...       ...                       ...          ...        ...   \n",
       "398910    1939496      1993                       0.0            2          6   \n",
       "394421    1800472      1986                       0.0            2          3   \n",
       "393941    1596820      1993                       0.0            2          6   \n",
       "394424    1796323      1986                       0.0            2          3   \n",
       "393942    1919932      1993                       0.0            2          1   \n",
       "400608    1804238      1991                       0.0            2          1   \n",
       "394426    1567544      1988                       0.0            2          6   \n",
       "394427    1927536      1993                       0.0            2          1   \n",
       "394422    1857754      1986                       0.0            2          3   \n",
       "400609    1890749      1989                       0.0            2          1   \n",
       "393427    1861557      1988                       0.0            2          6   \n",
       "398006    1846933      1993                       0.0            2          1   \n",
       "398773    1897056      1989                       0.0            2          3   \n",
       "397994    1911811      1987                       0.0            2          1   \n",
       "393948    1656398      1988                       0.0            2          3   \n",
       "391397    2303611      1991                    7638.0            2          3   \n",
       "398034    1789123      1987                       0.0            2          6   \n",
       "394545     111161      1975                       0.0            0          1   \n",
       "394819    1489095      1983                       0.0            0          3   \n",
       "394328     652080      1990                       0.0            0          3   \n",
       "394549     120095      1978                       0.0            0          1   \n",
       "394737     147478      1996                       0.0            0          1   \n",
       "393990     328744      1997                       0.0            0          1   \n",
       "394181     328738      1996                       0.0            0          1   \n",
       "394182      89909      1996                       0.0            0          1   \n",
       "394218     353109      1997                       0.0            0          1   \n",
       "393668     221979      1998                       0.0            0          1   \n",
       "393667     266425      1997                       0.0            0          1   \n",
       "394035      11622      1991                       0.0            0          1   \n",
       "393076    1490536      1985                       0.0            2          3   \n",
       "\n",
       "        Coupler_System  saleYear  \n",
       "394558               0      2011  \n",
       "394028               0      2011  \n",
       "395593               0      2011  \n",
       "394062               0      2011  \n",
       "394333               0      2011  \n",
       "393078               0      2011  \n",
       "393769               0      2011  \n",
       "393070               0      2011  \n",
       "394536               0      2011  \n",
       "393069               0      2011  \n",
       "393073               0      2011  \n",
       "398866               0      2011  \n",
       "393074               0      2011  \n",
       "393560               0      2011  \n",
       "396211               0      2011  \n",
       "393071               0      2011  \n",
       "393072               0      2011  \n",
       "396212               0      2011  \n",
       "393077               0      2011  \n",
       "394348               0      2011  \n",
       "393959               0      2011  \n",
       "394036               0      2011  \n",
       "394037               0      2011  \n",
       "392276               0      2011  \n",
       "394675               0      2011  \n",
       "393486               0      2011  \n",
       "392594               0      2011  \n",
       "399069               0      2011  \n",
       "399063               0      2011  \n",
       "394191               0      2011  \n",
       "...                ...       ...  \n",
       "398910               0      2011  \n",
       "394421               0      2011  \n",
       "393941               0      2011  \n",
       "394424               0      2011  \n",
       "393942               0      2011  \n",
       "400608               0      2011  \n",
       "394426               0      2011  \n",
       "394427               0      2011  \n",
       "394422               0      2011  \n",
       "400609               0      2011  \n",
       "393427               0      2011  \n",
       "398006               0      2011  \n",
       "398773               0      2011  \n",
       "397994               0      2011  \n",
       "393948               0      2011  \n",
       "391397               0      2011  \n",
       "398034               0      2011  \n",
       "394545               0      2011  \n",
       "394819               0      2011  \n",
       "394328               0      2011  \n",
       "394549               0      2011  \n",
       "394737               0      2011  \n",
       "393990               0      2011  \n",
       "394181               0      2011  \n",
       "394182               0      2011  \n",
       "394218               0      2011  \n",
       "393668               0      2011  \n",
       "393667               0      2011  \n",
       "394035               0      2011  \n",
       "393076               0      2011  \n",
       "\n",
       "[100 rows x 7 columns]"
      ]
     },
     "execution_count": 360,
     "metadata": {},
     "output_type": "execute_result"
    }
   ],
   "source": [
    "pred_int"
   ]
  },
  {
   "cell_type": "code",
   "execution_count": 357,
   "metadata": {
    "scrolled": true
   },
   "outputs": [
    {
     "data": {
      "text/plain": [
       "<matplotlib.axes._subplots.AxesSubplot at 0x121b02400>"
      ]
     },
     "execution_count": 357,
     "metadata": {},
     "output_type": "execute_result"
    },
    {
     "data": {
      "image/png": "[encoded data removed]",
      "text/plain": [
       "<matplotlib.figure.Figure at 0x123a069b0>"
      ]
     },
     "metadata": {},
     "output_type": "display_data"
    }
   ],
   "source": [
    "pred_int.Enclosure.value_counts().plot.barh()"
   ]
  },
  {
   "cell_type": "markdown",
   "metadata": {},
   "source": [
    "For e.g. above plot shows that for most of **Enclosure corresponding to code 1**, we are not confident with  predictions."
   ]
  },
  {
   "cell_type": "code",
   "execution_count": 313,
   "metadata": {},
   "outputs": [
    {
     "data": {
      "text/plain": [
       "<matplotlib.axes._subplots.AxesSubplot at 0x121815518>"
      ]
     },
     "execution_count": 313,
     "metadata": {},
     "output_type": "execute_result"
    },
    {
     "data": {
      "image/png": "[encoded data removed]",
      "text/plain": [
       "<matplotlib.figure.Figure at 0x121b1bda0>"
      ]
     },
     "metadata": {},
     "output_type": "display_data"
    }
   ],
   "source": [
    "pred_int.YearMade.value_counts().plot.barh()"
   ]
  },
  {
   "cell_type": "markdown",
   "metadata": {},
   "source": [
    "Above plot shows that we are least confident about predictions for **Year = 1984**"
   ]
  },
  {
   "cell_type": "code",
   "execution_count": 352,
   "metadata": {
    "collapsed": true
   },
   "outputs": [],
   "source": [
    "x = raw_valid.copy()\n",
    "x['pred_std'] = ens.plot_ci(X_valid[cols].values, y_valid, doPlot=False)[1].error.reshape(x.shape[0],1)\n",
    "#ens.tree_std(X_valid[cols].values)\n",
    "x['pred'] = ens.predict(X_valid[cols].values)"
   ]
  },
  {
   "cell_type": "code",
   "execution_count": 354,
   "metadata": {},
   "outputs": [
    {
     "data": {
      "text/html": [
       "<div>\n",
       "<style>\n",
       "    .dataframe thead tr:only-child th {\n",
       "        text-align: right;\n",
       "    }\n",
       "\n",
       "    .dataframe thead th {\n",
       "        text-align: left;\n",
       "    }\n",
       "\n",
       "    .dataframe tbody tr th {\n",
       "        vertical-align: top;\n",
       "    }\n",
       "</style>\n",
       "<table border=\"1\" class=\"dataframe\">\n",
       "  <thead>\n",
       "    <tr style=\"text-align: right;\">\n",
       "      <th></th>\n",
       "      <th>SalePrice</th>\n",
       "      <th>pred</th>\n",
       "      <th>pred_std</th>\n",
       "    </tr>\n",
       "    <tr>\n",
       "      <th>ProductSize</th>\n",
       "      <th></th>\n",
       "      <th></th>\n",
       "      <th></th>\n",
       "    </tr>\n",
       "  </thead>\n",
       "  <tbody>\n",
       "    <tr>\n",
       "      <th>Compact</th>\n",
       "      <td>9.735093</td>\n",
       "      <td>10.117707</td>\n",
       "      <td>0.644770</td>\n",
       "    </tr>\n",
       "    <tr>\n",
       "      <th>Large</th>\n",
       "      <td>10.470589</td>\n",
       "      <td>10.302451</td>\n",
       "      <td>0.864983</td>\n",
       "    </tr>\n",
       "    <tr>\n",
       "      <th>Large / Medium</th>\n",
       "      <td>10.691871</td>\n",
       "      <td>10.718395</td>\n",
       "      <td>0.575581</td>\n",
       "    </tr>\n",
       "    <tr>\n",
       "      <th>Medium</th>\n",
       "      <td>10.681511</td>\n",
       "      <td>10.604615</td>\n",
       "      <td>0.612460</td>\n",
       "    </tr>\n",
       "    <tr>\n",
       "      <th>Mini</th>\n",
       "      <td>9.535147</td>\n",
       "      <td>9.562749</td>\n",
       "      <td>0.424186</td>\n",
       "    </tr>\n",
       "    <tr>\n",
       "      <th>Small</th>\n",
       "      <td>10.324448</td>\n",
       "      <td>10.368326</td>\n",
       "      <td>0.459777</td>\n",
       "    </tr>\n",
       "  </tbody>\n",
       "</table>\n",
       "</div>"
      ],
      "text/plain": [
       "                SalePrice       pred  pred_std\n",
       "ProductSize                                   \n",
       "Compact          9.735093  10.117707  0.644770\n",
       "Large           10.470589  10.302451  0.864983\n",
       "Large / Medium  10.691871  10.718395  0.575581\n",
       "Medium          10.681511  10.604615  0.612460\n",
       "Mini             9.535147   9.562749  0.424186\n",
       "Small           10.324448  10.368326  0.459777"
      ]
     },
     "execution_count": 354,
     "metadata": {},
     "output_type": "execute_result"
    }
   ],
   "source": [
    "flds = ['ProductSize', 'SalePrice', 'pred', 'pred_std']\n",
    "summ = x[flds].groupby(flds[0]).mean()\n",
    "summ"
   ]
  },
  {
   "cell_type": "code",
   "execution_count": 355,
   "metadata": {
    "scrolled": true
   },
   "outputs": [
    {
     "data": {
      "text/plain": [
       "ProductSize\n",
       "Large             0.083959\n",
       "Compact           0.063727\n",
       "Medium            0.057754\n",
       "Large / Medium    0.053700\n",
       "Mini              0.044358\n",
       "Small             0.044344\n",
       "dtype: float64"
      ]
     },
     "execution_count": 355,
     "metadata": {},
     "output_type": "execute_result"
    }
   ],
   "source": [
    "(summ.pred_std/summ.pred).sort_values(ascending=False)"
   ]
  },
  {
   "cell_type": "markdown",
   "metadata": {},
   "source": [
    "Above shows we are least confident about **large and compact** product sizes"
   ]
  },
  {
   "cell_type": "markdown",
   "metadata": {},
   "source": [
    "### Feature importance"
   ]
  },
  {
   "cell_type": "markdown",
   "metadata": {},
   "source": [
    "Using the same random forest model, by predicting on randomized values on specific column, we can find out if that specific column has high importance for prediction or not."
   ]
  },
  {
   "cell_type": "code",
   "execution_count": 404,
   "metadata": {
    "collapsed": true
   },
   "outputs": [],
   "source": [
    "# defining rmse as scoring criteria (therefore smaller is better)\n",
    "\n",
    "def score(x1,x2):\n",
    "    return metrics.mean_squared_error(x1,x2)"
   ]
  },
  {
   "cell_type": "code",
   "execution_count": 408,
   "metadata": {
    "collapsed": true
   },
   "outputs": [],
   "source": [
    "def feat_imp(m,x,y, small_bet = True):\n",
    "    score_list = {}\n",
    "    score_list['original'] = score(m.predict(x.values), y)\n",
    "    imp = {}\n",
    "    for i in range(len(x.columns)):\n",
    "        rand_idx = np.random.permutation(len(x))\n",
    "        new_coli = x.values[rand_idx, i]\n",
    "        \n",
    "        new_x = x.copy()\n",
    "        new_x[x.columns[i]] = new_coli\n",
    "        \n",
    "        score_list[x.columns[i]] = score(m.predict(new_x.values), y)\n",
    "        \n",
    "        imp[x.columns[i]] = score_list['original'] - score_list[x.columns[i]]   \n",
    "        \n",
    "    if small_bet:\n",
    "        return sorted(imp.items(), key=lambda x: x[1])\n",
    "    else:\n",
    "        return sorted(imp.items(), key=lambda x: x[1], reverse=True)\n",
    "                           "
   ]
  },
  {
   "cell_type": "code",
   "execution_count": 455,
   "metadata": {
    "collapsed": true
   },
   "outputs": [],
   "source": [
    "importance = feat_imp(ens, X_train[cols], y_train)"
   ]
  },
  {
   "cell_type": "code",
   "execution_count": 456,
   "metadata": {},
   "outputs": [
    {
     "data": {
      "text/plain": [
       "[('YearMade', -0.21947050888595573),\n",
       " ('Coupler_System', -0.21318328275792894),\n",
       " ('ProductSize', -0.18353291714217482),\n",
       " ('saleYear', -0.045706193607739254),\n",
       " ('Enclosure', -0.041566508577359523),\n",
       " ('MachineID', -0.01399141076436905),\n",
       " ('MachineHoursCurrentMeter', -1.9246700722952426e-05)]"
      ]
     },
     "execution_count": 456,
     "metadata": {},
     "output_type": "execute_result"
    }
   ],
   "source": [
    "importance"
   ]
  },
  {
   "cell_type": "markdown",
   "metadata": {},
   "source": [
    "Now if some feature decreases RMSE (score) after being shuffled means that the model is better off without that feature. Meaning - that removing that feature is going to make model better. \n",
    "\n",
    "The featuure which make predictions very bad after being removed is one which must be very important for the model. That's how the feature importance is decided.  "
   ]
  },
  {
   "cell_type": "markdown",
   "metadata": {},
   "source": [
    "By looking at the above results, we can remove **MachineHoursCurrentMeter** and look at the plot of other feature importances. Let's just plot all of them for now"
   ]
  },
  {
   "cell_type": "code",
   "execution_count": 457,
   "metadata": {
    "collapsed": true
   },
   "outputs": [],
   "source": [
    "di = {'feat': [i[0] for i in importance], 'imp': [-i[1] for i in importance]}\n",
    "df_imp = pd.DataFrame(di)"
   ]
  },
  {
   "cell_type": "code",
   "execution_count": 458,
   "metadata": {},
   "outputs": [
    {
     "data": {
      "text/plain": [
       "<matplotlib.axes._subplots.AxesSubplot at 0x125d13978>"
      ]
     },
     "execution_count": 458,
     "metadata": {},
     "output_type": "execute_result"
    },
    {
     "data": {
      "image/png": "[encoded data removed]",
      "text/plain": [
       "<matplotlib.figure.Figure at 0x125d0a6a0>"
      ]
     },
     "metadata": {},
     "output_type": "display_data"
    }
   ],
   "source": [
    "df_imp.plot('feat', 'imp', figsize=(10,6))"
   ]
  },
  {
   "cell_type": "markdown",
   "metadata": {},
   "source": [
    "From the above plot, **Coupler system, ProductSize, YearMade** are 3 most importance features among all other selected features.  \n",
    "\n",
    "Let's see what **sklearn random forest** say about importance features"
   ]
  },
  {
   "cell_type": "code",
   "execution_count": 450,
   "metadata": {
    "collapsed": true
   },
   "outputs": [],
   "source": [
    "rf = RandomForestRegressor(n_estimators=40, min_samples_leaf=3, max_features=0.5, n_jobs=-1, oob_score=True)"
   ]
  },
  {
   "cell_type": "code",
   "execution_count": 451,
   "metadata": {
    "collapsed": true
   },
   "outputs": [],
   "source": [
    "m = rf.fit(X_train[cols], y_train)"
   ]
  },
  {
   "cell_type": "code",
   "execution_count": 452,
   "metadata": {},
   "outputs": [
    {
     "data": {
      "text/plain": [
       "<matplotlib.axes._subplots.AxesSubplot at 0x13201a160>"
      ]
     },
     "execution_count": 452,
     "metadata": {},
     "output_type": "execute_result"
    },
    {
     "data": {
      "image/png": "[encoded data removed]",
      "text/plain": [
       "<matplotlib.figure.Figure at 0x1320285c0>"
      ]
     },
     "metadata": {},
     "output_type": "display_data"
    }
   ],
   "source": [
    "rf_feat_importance(m, X_train[cols]).plot('cols', 'imp', figsize = (10,6))"
   ]
  },
  {
   "cell_type": "markdown",
   "metadata": {},
   "source": [
    "As observed from the 2 plots, feature importance is more or less same as **sklearn** implementation. "
   ]
  },
  {
   "cell_type": "markdown",
   "metadata": {},
   "source": [
    "### Tree Interpretor"
   ]
  },
  {
   "cell_type": "markdown",
   "metadata": {},
   "source": [
    "**Feature importance** (as in above section) is useful if we want to analyze which features are important for overall random forest model. But if we are interested in one particular observation, then the role of **tree interpretor** comes into play.   \n",
    "\n",
    "*For example, there is a RF model which predicts - **a patient X coming to hospital has high probability of readmission or not?**. For sake of similicity, let's consider we only have 3 features - `patient's blood pressure data, patient's age and patient's sex`. Now, if our model says that `person A` has 80% chances of readmission, how can we know ** what is special in that person A that our model predicts he/she will be readmitted ? **.  In this case, tree interpretor tells the **prediction path ** followed for that particular patient. Something like, because **patient A** is 65 years old male, that is why our model predicts that he will be readmitted. Another **patient B** who my model predicts to be readmitted might be because B has high blood pressure (not because of age or sex).   *\n",
    "\n",
    "To conclude, each observation follows a different path of the tree and has different feature contributions for it's prediction"
   ]
  },
  {
   "cell_type": "code",
   "execution_count": 20,
   "metadata": {
    "collapsed": true,
    "scrolled": true
   },
   "outputs": [],
   "source": [
    "def contributions(self, xi, path = None):\n",
    "    \n",
    "    \n",
    "    if self.is_leaf: return path.append(self.val)\n",
    "    \n",
    "    if path == None: path = []\n",
    "        \n",
    "    t = self.lhs if xi[self.var_idx]<=self.split else self.rhs  \n",
    "    try:\n",
    "        path.append((t.val, t.split_name, t.split))\n",
    "    except AttributeError:\n",
    "        pass\n",
    "    \n",
    "    t.contributions(xi, path)\n",
    "    return path\n",
    "\n",
    "DecisionTree.contributions = contributions"
   ]
  },
  {
   "cell_type": "code",
   "execution_count": 28,
   "metadata": {},
   "outputs": [
    {
     "data": {
      "text/plain": [
       "9.4413227521592749"
      ]
     },
     "execution_count": 28,
     "metadata": {},
     "output_type": "execute_result"
    }
   ],
   "source": [
    "ens = TreeEnsemble(X_train[cols], y_train, 5, 1000)\n",
    "tree = ens.trees[3]\n",
    "tree.predict_row(X_valid.values[10])"
   ]
  },
  {
   "cell_type": "code",
   "execution_count": 29,
   "metadata": {
    "collapsed": true
   },
   "outputs": [],
   "source": [
    "contr = []\n",
    "contr = tree.contributions(X_valid.values[10])"
   ]
  },
  {
   "cell_type": "code",
   "execution_count": 30,
   "metadata": {},
   "outputs": [
    {
     "data": {
      "text/plain": [
       "[(9.2304130502447865, 'YearMade', 1998.0),\n",
       " (9.3440723845211835, 'YearMade', 2001.0),\n",
       " (9.4090407478427167, 'saleYear', 2007.0),\n",
       " (9.3698557938690321, 'YearMade', 2005.0),\n",
       " 9.4413227521592749]"
      ]
     },
     "execution_count": 30,
     "metadata": {},
     "output_type": "execute_result"
    }
   ],
   "source": [
    "contr"
   ]
  },
  {
   "cell_type": "code",
   "execution_count": 737,
   "metadata": {
    "collapsed": true
   },
   "outputs": [],
   "source": [
    "prediction = tree.predict_row(X_valid.values[1])\n",
    "bias = np.mean(y_valid)\n",
    "bias"
   ]
  },
  {
   "cell_type": "markdown",
   "metadata": {},
   "source": [
    "### Find better split (Shikhar)"
   ]
  },
  {
   "cell_type": "code",
   "execution_count": null,
   "metadata": {},
   "outputs": [],
   "source": [
    "def best_split(df,var_x,var_y): \n",
    "    df_subset = df[[var_x, var_y]]\n",
    "    current_score = np.std(df_subset[var_y])\n",
    "    \n",
    "    for i in df_subset[var_x].unique():\n",
    "        lhs = df_subset[var_y][df_subset[var_x]<=i]\n",
    "        rhs = df_subset[var_y][df_subset[var_x]>i]\n",
    "        if len(rhs)==0:continue\n",
    "        new_score = (len(lhs)*np.std(lhs)+len(rhs)*np.std(rhs))/df_subset.shape[0]\n",
    "        if new_score < current_score:\n",
    "            current_score = new_score\n",
    "            var_x_best = i\n",
    "    return var_x_best,current_score"
   ]
  }
 ],
 "metadata": {
  "kernelspec": {
   "display_name": "Python 3",
   "language": "python",
   "name": "python3"
  },
  "language_info": {
   "codemirror_mode": {
    "name": "ipython",
    "version": 3
   },
   "file_extension": ".py",
   "mimetype": "text/x-python",
   "name": "python",
   "nbconvert_exporter": "python",
   "pygments_lexer": "ipython3",
   "version": "3.6.3"
  }
 },
 "nbformat": 4,
 "nbformat_minor": 2
}
